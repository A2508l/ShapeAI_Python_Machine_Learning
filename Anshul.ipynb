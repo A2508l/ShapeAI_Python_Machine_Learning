{
  "nbformat": 4,
  "nbformat_minor": 0,
  "metadata": {
    "colab": {
      "name": "Anshul.ipynb",
      "provenance": [],
      "collapsed_sections": []
    },
    "kernelspec": {
      "name": "python3",
      "display_name": "Python 3"
    },
    "language_info": {
      "name": "python"
    }
  },
  "cells": [
    {
      "cell_type": "code",
      "metadata": {
        "colab": {
          "base_uri": "https://localhost:8080/"
        },
        "id": "d2avIa8Iu_2C",
        "outputId": "c5eb7a59-0a68-48e1-a90e-64aa22445ccb"
      },
      "source": [
        "import numpy as np\n",
        "import pandas as pd\n",
        "import sklearn\n",
        "\n",
        "from sklearn.datasets import load_boston\n",
        "df = load_boston()\n",
        "df.keys()\n",
        "\n",
        "#print(df.DESCR) #will print the description of dataset\n",
        "\n",
        "boston = pd.DataFrame(df.data, columns=df.feature_names)\n",
        "boston.head()\n",
        "\n",
        "boston['MEDV'] = df.target\n",
        "boston.head()\n",
        "\n",
        "boston.isnull().sum()\n",
        "\n",
        "\n",
        "from sklearn.model_selection import train_test_split\n",
        "X = boston.drop('MEDV' , axis = 1)\n",
        "Y = boston['MEDV']\n",
        "X_train , X_test , Y_train , Y_test = train_test_split(X, Y, test_size = 0.15, random_state = 1)\n",
        "print(X_train.shape)\n",
        "print(X_test.shape)\n",
        "print(Y_train.shape)\n",
        "print(Y_test.shape)\n",
        "\n",
        "\n",
        "from sklearn.linear_model import LinearRegression\n",
        "from sklearn.metrics import mean_squared_error\n",
        "\n",
        "lin_model = LinearRegression()\n",
        "lin_model.fit(X_train , Y_train)\n",
        "\n",
        "y_train_predict = lin_model.predict(X_train)\n",
        "rmse = (np.sqrt(mean_squared_error(Y_train , y_train_predict)))\n",
        "\n",
        "\n",
        "print(\"The model perfomance for the training set\")\n",
        "print(\"RMSE is {}\".format(rmse))\n",
        "print(\"\\n\")\n",
        "\n",
        "\n",
        "y_test_predict = lin_model.predict(X_test)\n",
        "rmse = (np.sqrt(mean_squared_error(Y_test , y_test_predict)))\n",
        "\n",
        "print(\"The model perfomance for the testing set\")\n",
        "print(\"RMSE is {}\".format(rmse))\n",
        "print(\"\\n\")"
      ],
      "execution_count": 18,
      "outputs": [
        {
          "output_type": "stream",
          "text": [
            "(430, 13)\n",
            "(76, 13)\n",
            "(430,)\n",
            "(76,)\n",
            "The model perfomance for the training set\n",
            "RMSE is 4.691577015539126\n",
            "\n",
            "\n",
            "The model perfomance for the testing set\n",
            "RMSE is 4.685497050472062\n",
            "\n",
            "\n"
          ],
          "name": "stdout"
        }
      ]
    }
  ]
}